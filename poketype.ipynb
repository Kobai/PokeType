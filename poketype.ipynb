{
  "nbformat": 4,
  "nbformat_minor": 0,
  "metadata": {
    "colab": {
      "name": "poketype.ipynb",
      "provenance": [],
      "collapsed_sections": [],
      "authorship_tag": "ABX9TyOejS9tpW9Z45ZmdfaGgVfK",
      "include_colab_link": true
    },
    "kernelspec": {
      "name": "python3",
      "display_name": "Python 3"
    },
    "accelerator": "GPU"
  },
  "cells": [
    {
      "cell_type": "markdown",
      "metadata": {
        "id": "view-in-github",
        "colab_type": "text"
      },
      "source": [
        "<a href=\"https://colab.research.google.com/github/Kobai/PokeType/blob/master/poketype.ipynb\" target=\"_parent\"><img src=\"https://colab.research.google.com/assets/colab-badge.svg\" alt=\"Open In Colab\"/></a>"
      ]
    },
    {
      "cell_type": "markdown",
      "metadata": {
        "id": "ulK2nWqK0wm-",
        "colab_type": "text"
      },
      "source": [
        "## Importing all the necessary packages"
      ]
    },
    {
      "cell_type": "code",
      "metadata": {
        "id": "16jOAioW0XQy",
        "colab_type": "code",
        "colab": {}
      },
      "source": [
        "import urllib.request\n",
        "import os\n",
        "import re\n",
        "\n",
        "import numpy as np\n",
        "import pandas as pd\n",
        "import matplotlib.pyplot as plt\n",
        "\n",
        "import torch\n",
        "import torch.nn as nn\n",
        "import torch.optim as optim\n",
        "import torch.nn.functional as F\n",
        "from torchvision import datasets, transforms"
      ],
      "execution_count": 0,
      "outputs": []
    },
    {
      "cell_type": "markdown",
      "metadata": {
        "id": "CIKDRhRKz-4t",
        "colab_type": "text"
      },
      "source": [
        "## Download all the images from the pokémon website"
      ]
    },
    {
      "cell_type": "code",
      "metadata": {
        "id": "a3XMeN3qlF3m",
        "colab_type": "code",
        "colab": {}
      },
      "source": [
        "os.mkdir('./imgs')\n",
        "os.mkdir('./eval')\n",
        "os.mkdir('./predict')\n",
        "os.mkdir('./predict/imgs')\n",
        "\n",
        "for i in range(649):\n",
        "  num = '%03d' % (i+1)\n",
        "  urllib.request.urlretrieve('https://assets.pokemon.com/assets/cms2/img/pokedex/full/%s.png' % num, './imgs/%s.png' % str(i+1))\n",
        "\n",
        "for i in range(650,722):\n",
        "  num = '%03d' % i\n",
        "  urllib.request.urlretrieve('https://assets.pokemon.com/assets/cms2/img/pokedex/full/%s.png' % num, './eval/%s.png' % str(i))"
      ],
      "execution_count": 0,
      "outputs": []
    },
    {
      "cell_type": "markdown",
      "metadata": {
        "id": "V87vEYfzz94j",
        "colab_type": "text"
      },
      "source": [
        "## Move all the images to type based folders\n"
      ]
    },
    {
      "cell_type": "code",
      "metadata": {
        "id": "rmOkM_pSlORH",
        "colab_type": "code",
        "colab": {}
      },
      "source": [
        "# We use a csv from kaggle and index the pokemon image's id to find the appropriate type\n",
        "df = pd.read_csv('pokemon_stat.csv')\n",
        "train_list = df.head(649)['type_1'].to_list()\n",
        "eval_list = df.head(721).tail(721-649)['type_1'].to_list()\n",
        "all_types = list(set(train_list))\n",
        "\n",
        "for ptype in all_types:\n",
        "  os.mkdir('./imgs/%s' % ptype)\n",
        "\n",
        "for ptype in all_types:\n",
        "  os.mkdir('./eval/%s' % ptype)\n",
        "\n",
        "for img in os.listdir('./imgs'):\n",
        "  if re.match('\\d+.png', img):\n",
        "    index = int(img.split('.')[0])\n",
        "    os.rename('./imgs/%s' % img, './imgs/%s/%s' % (train_list[index-1], img))\n",
        "\n",
        "for img in os.listdir('./eval'):\n",
        "  if re.match('\\d+.png', img):\n",
        "    index = int(img.split('.')[0])\n",
        "    os.rename('./eval/%s' % img, './eval/%s/%s' % (eval_list[index-1-649], img))"
      ],
      "execution_count": 0,
      "outputs": []
    },
    {
      "cell_type": "markdown",
      "metadata": {
        "id": "-BGhRiGK1RRK",
        "colab_type": "text"
      },
      "source": [
        "## Prepare the data to be loaded into the model"
      ]
    },
    {
      "cell_type": "code",
      "metadata": {
        "id": "I_QqchPrnU0v",
        "colab_type": "code",
        "colab": {}
      },
      "source": [
        "# Transformations to apply to the train and test sets\n",
        "train_transform = transforms.Compose([\n",
        "    transforms.Resize(80),\n",
        "    transforms.CenterCrop(64),\n",
        "    transforms.RandomHorizontalFlip(),\n",
        "    transforms.RandomRotation(30),\n",
        "    transforms.ToTensor(),\n",
        "    transforms.Normalize((0.5, 0.5, 0.5), (0.5, 0.5, 0.5))\n",
        "]) \n",
        "\n",
        "test_transform = transforms.Compose([\n",
        "    transforms.Resize(80),\n",
        "    transforms.CenterCrop(64),\n",
        "    transforms.ToTensor(),\n",
        "    transforms.Normalize((0.5, 0.5, 0.5), (0.5, 0.5, 0.5))\n",
        "])\n",
        "\n",
        "# Create datasets from the image folders and apply transformations\n",
        "train_data = datasets.ImageFolder('imgs', transform=train_transform)\n",
        "test_data = datasets.ImageFolder('eval', transform=test_transform)\n",
        "\n",
        "# Create dataloaders from the datasets\n",
        "trainloader = torch.utils.data.DataLoader(train_data, batch_size=32, shuffle=True)\n",
        "testloader = torch.utils.data.DataLoader(test_data, batch_size=32, shuffle=True)"
      ],
      "execution_count": 0,
      "outputs": []
    },
    {
      "cell_type": "markdown",
      "metadata": {
        "id": "Mf9BuDE41mzH",
        "colab_type": "text"
      },
      "source": [
        "## View some the images to see what the transformations look like"
      ]
    },
    {
      "cell_type": "code",
      "metadata": {
        "id": "Z8KwL_srnZ6a",
        "colab_type": "code",
        "colab": {}
      },
      "source": [
        "classes = ['bug', 'dark', 'dragon', 'electric', 'fairy', 'fighting', 'fire', 'flying', 'ghost', 'grass', 'ground', 'ice', 'normal', 'poison', 'psychic', 'rock', 'steel', 'water']\n",
        "dataiter = iter(trainloader)\n",
        "images, labels = dataiter.next()\n",
        "images = images.numpy() \n",
        "\n",
        "img = plt.figure(figsize=(25, 4))\n",
        "for i in range(20):\n",
        "  ax = img.add_subplot(2, 20/2, i+1, xticks=[], yticks=[])\n",
        "  plt.imshow(np.transpose(images[i], (1, 2, 0)))\n",
        "  ax.set_title(classes[labels[i]])"
      ],
      "execution_count": 0,
      "outputs": []
    },
    {
      "cell_type": "code",
      "metadata": {
        "id": "gIrlswCBINPL",
        "colab_type": "code",
        "colab": {
          "base_uri": "https://localhost:8080/",
          "height": 34
        },
        "outputId": "08155003-cff3-447e-a593-5dee75c00b51"
      },
      "source": [
        "images.shape"
      ],
      "execution_count": 192,
      "outputs": [
        {
          "output_type": "execute_result",
          "data": {
            "text/plain": [
              "(32, 3, 64, 64)"
            ]
          },
          "metadata": {
            "tags": []
          },
          "execution_count": 192
        }
      ]
    },
    {
      "cell_type": "markdown",
      "metadata": {
        "id": "q3iDcnJf2jAk",
        "colab_type": "text"
      },
      "source": [
        "## Define a CNN model"
      ]
    },
    {
      "cell_type": "code",
      "metadata": {
        "id": "Q6iKCprvIe2C",
        "colab_type": "code",
        "colab": {}
      },
      "source": [
        "class Net(nn.Module):\n",
        "  def __init__(self):\n",
        "    super().__init__()\n",
        "    self.conv1 = nn.Conv2d(3, 16, 3, padding=1)\n",
        "    self.conv2 = nn.Conv2d(16, 32, 3, padding=1)\n",
        "    self.conv3 = nn.Conv2d(32, 64, 3, padding=1)\n",
        "\n",
        "    self.pool = nn.MaxPool2d(2,2)\n",
        "\n",
        "    self.dropout = nn.Dropout(0.25)\n",
        "\n",
        "    self.fc1 = nn.Linear(64 * 8 * 8, 512)\n",
        "    self.fc2 = nn.Linear(512, 18)\n",
        "\n",
        "  def forward(self, x):\n",
        "    x = self.pool(F.relu(self.conv1(x)))\n",
        "    x = self.pool(F.relu(self.conv2(x)))\n",
        "    x = self.pool(F.relu(self.conv3(x)))\n",
        "    x = x.view(-1, 64 * 8 * 8)\n",
        "    x = F.relu(self.fc1(x))\n",
        "    x = self.dropout(x)\n",
        "    x = self.fc2(x)\n",
        "    return x\n",
        "\n",
        "model = Net()\n",
        "print(model)\n",
        "model.cuda()"
      ],
      "execution_count": 0,
      "outputs": []
    },
    {
      "cell_type": "code",
      "metadata": {
        "id": "3tRhGrXKMKns",
        "colab_type": "code",
        "colab": {}
      },
      "source": [
        "criterion = nn.CrossEntropyLoss()\n",
        "optimizer = optim.Adam(model.parameters(), lr=0.005)"
      ],
      "execution_count": 0,
      "outputs": []
    },
    {
      "cell_type": "markdown",
      "metadata": {
        "id": "0YvpTBgHJkWL",
        "colab_type": "text"
      },
      "source": [
        "## Train the model"
      ]
    },
    {
      "cell_type": "code",
      "metadata": {
        "id": "cGYGK0_BNNUU",
        "colab_type": "code",
        "colab": {}
      },
      "source": [
        "model.train()\n",
        "running_loss = 0.0\n",
        "\n",
        "for epoch in range(30):\n",
        "  for i, batch in enumerate(trainloader, 0):\n",
        "    data, target = batch\n",
        "    data, target = data.cuda(), target.cuda()\n",
        "\n",
        "    optimizer.zero_grad()\n",
        "    output = model(data)\n",
        "    loss = criterion(output, target)\n",
        "    loss.backward()\n",
        "    optimizer.step()\n",
        "\n",
        "    running_loss += loss.item()\n",
        "    if i % 10 == 9:\n",
        "      print(f'Epoch: {epoch+1} / Running Loss: {running_loss/10}')\n",
        "      running_loss = 0.0"
      ],
      "execution_count": 0,
      "outputs": []
    },
    {
      "cell_type": "code",
      "metadata": {
        "id": "ctLv2aFKOBPM",
        "colab_type": "code",
        "colab": {}
      },
      "source": [
        "torch.save(model.state_dict(), 'poke_model.pt')"
      ],
      "execution_count": 0,
      "outputs": []
    },
    {
      "cell_type": "markdown",
      "metadata": {
        "id": "OXrb-FcFJnjr",
        "colab_type": "text"
      },
      "source": [
        "## Test the model"
      ]
    },
    {
      "cell_type": "code",
      "metadata": {
        "id": "YiVRz9LdP0n0",
        "colab_type": "code",
        "colab": {
          "base_uri": "https://localhost:8080/",
          "height": 52
        },
        "outputId": "7d0dc22f-9304-4f5d-952c-b8cba2e71087"
      },
      "source": [
        "test_loss = 0.0\n",
        "class_correct = list(0. for i in range(18))\n",
        "class_total = list(0. for i in range(18))\n",
        "\n",
        "with torch.no_grad():\n",
        "  for data, target in testloader:\n",
        "    data, target = data.cuda(), target.cuda()\n",
        "\n",
        "    output = model(data)\n",
        "    loss = criterion(output, target)\n",
        "    test_loss += loss.item()*data.size(0)\n",
        "\n",
        "    _, pred = torch.max(output, 1)\n",
        "    correct_tensor = pred.eq(target.data.view_as(pred))\n",
        "    correct = np.squeeze(np.squeeze(correct_tensor.cpu().numpy()))\n",
        "\n",
        "    for i in range(len(target.data)):\n",
        "      label = target.data[i]\n",
        "      class_correct[label] += correct[i].item()\n",
        "      class_total[label] += 1\n",
        "\n",
        "test_loss = test_loss/len(testloader.sampler)\n",
        "print('Test Loss: {:.6f}\\n'.format(test_loss))"
      ],
      "execution_count": 226,
      "outputs": [
        {
          "output_type": "stream",
          "text": [
            "Test Loss: 4.811930\n",
            "\n"
          ],
          "name": "stdout"
        }
      ]
    },
    {
      "cell_type": "code",
      "metadata": {
        "id": "Wkw0jn8l2eKC",
        "colab_type": "code",
        "colab": {
          "base_uri": "https://localhost:8080/",
          "height": 34
        },
        "outputId": "99f4245a-c215-4ee0-f286-bc3c22864db3"
      },
      "source": [
        "print(f'Accuracy: {100. * np.sum(class_correct) / np.sum(class_total)}%')"
      ],
      "execution_count": 227,
      "outputs": [
        {
          "output_type": "stream",
          "text": [
            "Accuracy: 19.444444444444443%\n"
          ],
          "name": "stdout"
        }
      ]
    }
  ]
}